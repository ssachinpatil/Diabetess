{
 "cells": [
  {
   "cell_type": "markdown",
   "id": "c6ec3a65",
   "metadata": {},
   "source": [
    "## Import Modules"
   ]
  },
  {
   "cell_type": "code",
   "execution_count": 1,
   "id": "aa553167",
   "metadata": {},
   "outputs": [],
   "source": [
    "import numpy as np\n",
    "import pandas as pd\n",
    "from sklearn.linear_model import LogisticRegression\n",
    "from sklearn.model_selection import train_test_split\n",
    "from sklearn.metrics import accuracy_score,precision_score,classification_report\n",
    "from sklearn.metrics import confusion_matrix,recall_score\n",
    "from matplotlib import pyplot as plt\n",
    "import seaborn as sns\n",
    "import plotly.express as px\n",
    "import json,pickle"
   ]
  },
  {
   "cell_type": "markdown",
   "id": "340316f0",
   "metadata": {},
   "source": [
    "## Data Gathering"
   ]
  },
  {
   "cell_type": "code",
   "execution_count": 2,
   "id": "8b531792",
   "metadata": {},
   "outputs": [
    {
     "data": {
      "text/html": [
       "<div>\n",
       "<style scoped>\n",
       "    .dataframe tbody tr th:only-of-type {\n",
       "        vertical-align: middle;\n",
       "    }\n",
       "\n",
       "    .dataframe tbody tr th {\n",
       "        vertical-align: top;\n",
       "    }\n",
       "\n",
       "    .dataframe thead th {\n",
       "        text-align: right;\n",
       "    }\n",
       "</style>\n",
       "<table border=\"1\" class=\"dataframe\">\n",
       "  <thead>\n",
       "    <tr style=\"text-align: right;\">\n",
       "      <th></th>\n",
       "      <th>Glucose</th>\n",
       "      <th>BloodPressure</th>\n",
       "      <th>SkinThickness</th>\n",
       "      <th>Insulin</th>\n",
       "      <th>BMI</th>\n",
       "      <th>DiabetesPedigreeFunction</th>\n",
       "      <th>Age</th>\n",
       "      <th>Outcome</th>\n",
       "    </tr>\n",
       "  </thead>\n",
       "  <tbody>\n",
       "    <tr>\n",
       "      <th>0</th>\n",
       "      <td>148</td>\n",
       "      <td>50</td>\n",
       "      <td>35</td>\n",
       "      <td>0</td>\n",
       "      <td>33.6</td>\n",
       "      <td>0.627</td>\n",
       "      <td>50</td>\n",
       "      <td>1</td>\n",
       "    </tr>\n",
       "    <tr>\n",
       "      <th>1</th>\n",
       "      <td>85</td>\n",
       "      <td>66</td>\n",
       "      <td>29</td>\n",
       "      <td>0</td>\n",
       "      <td>26.6</td>\n",
       "      <td>0.351</td>\n",
       "      <td>31</td>\n",
       "      <td>0</td>\n",
       "    </tr>\n",
       "    <tr>\n",
       "      <th>2</th>\n",
       "      <td>183</td>\n",
       "      <td>64</td>\n",
       "      <td>0</td>\n",
       "      <td>0</td>\n",
       "      <td>23.3</td>\n",
       "      <td>0.672</td>\n",
       "      <td>52</td>\n",
       "      <td>1</td>\n",
       "    </tr>\n",
       "    <tr>\n",
       "      <th>3</th>\n",
       "      <td>150</td>\n",
       "      <td>66</td>\n",
       "      <td>23</td>\n",
       "      <td>94</td>\n",
       "      <td>28.1</td>\n",
       "      <td>0.167</td>\n",
       "      <td>21</td>\n",
       "      <td>0</td>\n",
       "    </tr>\n",
       "    <tr>\n",
       "      <th>4</th>\n",
       "      <td>150</td>\n",
       "      <td>40</td>\n",
       "      <td>35</td>\n",
       "      <td>168</td>\n",
       "      <td>43.1</td>\n",
       "      <td>2.288</td>\n",
       "      <td>33</td>\n",
       "      <td>1</td>\n",
       "    </tr>\n",
       "    <tr>\n",
       "      <th>...</th>\n",
       "      <td>...</td>\n",
       "      <td>...</td>\n",
       "      <td>...</td>\n",
       "      <td>...</td>\n",
       "      <td>...</td>\n",
       "      <td>...</td>\n",
       "      <td>...</td>\n",
       "      <td>...</td>\n",
       "    </tr>\n",
       "    <tr>\n",
       "      <th>763</th>\n",
       "      <td>101</td>\n",
       "      <td>76</td>\n",
       "      <td>48</td>\n",
       "      <td>180</td>\n",
       "      <td>32.9</td>\n",
       "      <td>0.171</td>\n",
       "      <td>63</td>\n",
       "      <td>0</td>\n",
       "    </tr>\n",
       "    <tr>\n",
       "      <th>764</th>\n",
       "      <td>122</td>\n",
       "      <td>70</td>\n",
       "      <td>27</td>\n",
       "      <td>0</td>\n",
       "      <td>36.8</td>\n",
       "      <td>0.340</td>\n",
       "      <td>27</td>\n",
       "      <td>0</td>\n",
       "    </tr>\n",
       "    <tr>\n",
       "      <th>765</th>\n",
       "      <td>121</td>\n",
       "      <td>72</td>\n",
       "      <td>23</td>\n",
       "      <td>112</td>\n",
       "      <td>26.2</td>\n",
       "      <td>0.245</td>\n",
       "      <td>30</td>\n",
       "      <td>0</td>\n",
       "    </tr>\n",
       "    <tr>\n",
       "      <th>766</th>\n",
       "      <td>126</td>\n",
       "      <td>60</td>\n",
       "      <td>0</td>\n",
       "      <td>0</td>\n",
       "      <td>30.1</td>\n",
       "      <td>0.349</td>\n",
       "      <td>47</td>\n",
       "      <td>1</td>\n",
       "    </tr>\n",
       "    <tr>\n",
       "      <th>767</th>\n",
       "      <td>93</td>\n",
       "      <td>70</td>\n",
       "      <td>31</td>\n",
       "      <td>0</td>\n",
       "      <td>30.4</td>\n",
       "      <td>0.315</td>\n",
       "      <td>23</td>\n",
       "      <td>0</td>\n",
       "    </tr>\n",
       "  </tbody>\n",
       "</table>\n",
       "<p>768 rows × 8 columns</p>\n",
       "</div>"
      ],
      "text/plain": [
       "     Glucose  BloodPressure  SkinThickness  Insulin   BMI  \\\n",
       "0        148             50             35        0  33.6   \n",
       "1         85             66             29        0  26.6   \n",
       "2        183             64              0        0  23.3   \n",
       "3        150             66             23       94  28.1   \n",
       "4        150             40             35      168  43.1   \n",
       "..       ...            ...            ...      ...   ...   \n",
       "763      101             76             48      180  32.9   \n",
       "764      122             70             27        0  36.8   \n",
       "765      121             72             23      112  26.2   \n",
       "766      126             60              0        0  30.1   \n",
       "767       93             70             31        0  30.4   \n",
       "\n",
       "     DiabetesPedigreeFunction  Age  Outcome  \n",
       "0                       0.627   50        1  \n",
       "1                       0.351   31        0  \n",
       "2                       0.672   52        1  \n",
       "3                       0.167   21        0  \n",
       "4                       2.288   33        1  \n",
       "..                        ...  ...      ...  \n",
       "763                     0.171   63        0  \n",
       "764                     0.340   27        0  \n",
       "765                     0.245   30        0  \n",
       "766                     0.349   47        1  \n",
       "767                     0.315   23        0  \n",
       "\n",
       "[768 rows x 8 columns]"
      ]
     },
     "execution_count": 2,
     "metadata": {},
     "output_type": "execute_result"
    }
   ],
   "source": [
    "df=pd.read_csv(\"diabetes.csv\")\n",
    "df"
   ]
  },
  {
   "cell_type": "markdown",
   "id": "57487891",
   "metadata": {},
   "source": [
    "## EDA"
   ]
  },
  {
   "cell_type": "code",
   "execution_count": 3,
   "id": "9b226272",
   "metadata": {},
   "outputs": [
    {
     "name": "stdout",
     "output_type": "stream",
     "text": [
      "<class 'pandas.core.frame.DataFrame'>\n",
      "RangeIndex: 768 entries, 0 to 767\n",
      "Data columns (total 8 columns):\n",
      " #   Column                    Non-Null Count  Dtype  \n",
      "---  ------                    --------------  -----  \n",
      " 0   Glucose                   768 non-null    int64  \n",
      " 1   BloodPressure             768 non-null    int64  \n",
      " 2   SkinThickness             768 non-null    int64  \n",
      " 3   Insulin                   768 non-null    int64  \n",
      " 4   BMI                       768 non-null    float64\n",
      " 5   DiabetesPedigreeFunction  768 non-null    float64\n",
      " 6   Age                       768 non-null    int64  \n",
      " 7   Outcome                   768 non-null    int64  \n",
      "dtypes: float64(2), int64(6)\n",
      "memory usage: 48.1 KB\n"
     ]
    }
   ],
   "source": [
    "df.info()"
   ]
  },
  {
   "cell_type": "code",
   "execution_count": 4,
   "id": "b57b420f",
   "metadata": {},
   "outputs": [],
   "source": [
    "# no object data so not that much eda part req\n",
    "# no missing values there "
   ]
  },
  {
   "cell_type": "markdown",
   "id": "d5b53dbf",
   "metadata": {},
   "source": [
    "## outliers"
   ]
  },
  {
   "cell_type": "code",
   "execution_count": 5,
   "id": "22809fff",
   "metadata": {},
   "outputs": [
    {
     "data": {
      "text/plain": [
       "<AxesSubplot:xlabel='Glucose', ylabel='BloodPressure'>"
      ]
     },
     "execution_count": 5,
     "metadata": {},
     "output_type": "execute_result"
    },
    {
     "data": {
      "image/png": "[encoded data removed]",
      "text/plain": [
       "<Figure size 432x288 with 1 Axes>"
      ]
     },
     "metadata": {
      "needs_background": "light"
     },
     "output_type": "display_data"
    }
   ],
   "source": [
    "sns.boxplot(x=\"Glucose\",y=\"BloodPressure\",data=df)"
   ]
  },
  {
   "cell_type": "code",
   "execution_count": 6,
   "id": "e9f65e35",
   "metadata": {},
   "outputs": [
    {
     "data": {
      "text/plain": [
       "<AxesSubplot:>"
      ]
     },
     "execution_count": 6,
     "metadata": {},
     "output_type": "execute_result"
    },
    {
     "data": {
      "image/png": "[encoded data removed]",
      "text/plain": [
       "<Figure size 432x288 with 1 Axes>"
      ]
     },
     "metadata": {
      "needs_background": "light"
     },
     "output_type": "display_data"
    }
   ],
   "source": [
    "df[[\"Glucose\"]].boxplot()"
   ]
  },
  {
   "cell_type": "code",
   "execution_count": 7,
   "id": "0037cc87",
   "metadata": {},
   "outputs": [],
   "source": [
    "# it is not possible glucose as 0 so we will replace that outlier"
   ]
  },
  {
   "cell_type": "code",
   "execution_count": 8,
   "id": "ecd6a709",
   "metadata": {},
   "outputs": [],
   "source": [
    "q1=df['Glucose'].describe()[4]\n",
    "q3=df['Glucose'].describe()[6]\n",
    "iqr=q3-q1"
   ]
  },
  {
   "cell_type": "code",
   "execution_count": 9,
   "id": "66a3bab5",
   "metadata": {},
   "outputs": [
    {
     "data": {
      "text/plain": [
       "34.5"
      ]
     },
     "execution_count": 9,
     "metadata": {},
     "output_type": "execute_result"
    }
   ],
   "source": [
    "lf=q1-1.5*(iqr)\n",
    "lf"
   ]
  },
  {
   "cell_type": "code",
   "execution_count": 10,
   "id": "b45de11b",
   "metadata": {},
   "outputs": [
    {
     "data": {
      "text/plain": [
       "(array([ 75, 182, 342, 349, 502], dtype=int64),)"
      ]
     },
     "execution_count": 10,
     "metadata": {},
     "output_type": "execute_result"
    }
   ],
   "source": [
    "np.where(df['Glucose']<lf)"
   ]
  },
  {
   "cell_type": "code",
   "execution_count": 11,
   "id": "51c963c7",
   "metadata": {},
   "outputs": [],
   "source": [
    "df.loc[df['Glucose']<lf,\"Glucose\"]=50          \n",
    "# we are imputing with 50 because outlier value in the range 0 so if we impute with mean which is \n",
    "#quite higher it doesnt make sense"
   ]
  },
  {
   "cell_type": "code",
   "execution_count": 12,
   "id": "5bacf1c6",
   "metadata": {},
   "outputs": [
    {
     "data": {
      "text/plain": [
       "<AxesSubplot:>"
      ]
     },
     "execution_count": 12,
     "metadata": {},
     "output_type": "execute_result"
    },
    {
     "data": {
      "image/png": "[encoded data removed]",
      "text/plain": [
       "<Figure size 432x288 with 1 Axes>"
      ]
     },
     "metadata": {
      "needs_background": "light"
     },
     "output_type": "display_data"
    }
   ],
   "source": [
    "df[['Glucose']].boxplot()"
   ]
  },
  {
   "cell_type": "code",
   "execution_count": 13,
   "id": "0fce76d1",
   "metadata": {},
   "outputs": [
    {
     "data": {
      "text/plain": [
       "<AxesSubplot:>"
      ]
     },
     "execution_count": 13,
     "metadata": {},
     "output_type": "execute_result"
    },
    {
     "data": {
      "image/png": "[encoded data removed]",
      "text/plain": [
       "<Figure size 432x288 with 1 Axes>"
      ]
     },
     "metadata": {
      "needs_background": "light"
     },
     "output_type": "display_data"
    }
   ],
   "source": [
    "df[['BloodPressure']].boxplot()"
   ]
  },
  {
   "cell_type": "code",
   "execution_count": 14,
   "id": "40aebb97",
   "metadata": {},
   "outputs": [],
   "source": [
    "# bp upto 120- is normal range but it <30 is not normal so we will replace it with atleat 60 or 70"
   ]
  },
  {
   "cell_type": "code",
   "execution_count": 15,
   "id": "595941e1",
   "metadata": {},
   "outputs": [
    {
     "data": {
      "text/plain": [
       "(array([  7,  15,  18,  49,  60,  78,  81, 125, 172, 193, 222, 261, 266,\n",
       "        269, 300, 332, 336, 347, 357, 426, 430, 435, 453, 468, 484, 494,\n",
       "        522, 533, 535, 589, 597, 599, 601, 604, 619, 643, 697, 703, 706],\n",
       "       dtype=int64),)"
      ]
     },
     "execution_count": 15,
     "metadata": {},
     "output_type": "execute_result"
    }
   ],
   "source": [
    "np.where(df[\"BloodPressure\"]<40)\n"
   ]
  },
  {
   "cell_type": "code",
   "execution_count": 16,
   "id": "12e4390e",
   "metadata": {},
   "outputs": [],
   "source": [
    "df.loc[df['BloodPressure']<40,\"BloodPressure\"]=60 # 60 is lf of bp range"
   ]
  },
  {
   "cell_type": "code",
   "execution_count": 17,
   "id": "efb76409",
   "metadata": {},
   "outputs": [
    {
     "data": {
      "text/plain": [
       "<AxesSubplot:>"
      ]
     },
     "execution_count": 17,
     "metadata": {},
     "output_type": "execute_result"
    },
    {
     "data": {
      "image/png": "[encoded data removed]",
      "text/plain": [
       "<Figure size 432x288 with 1 Axes>"
      ]
     },
     "metadata": {
      "needs_background": "light"
     },
     "output_type": "display_data"
    }
   ],
   "source": [
    "df[['SkinThickness']].boxplot()"
   ]
  },
  {
   "cell_type": "code",
   "execution_count": 18,
   "id": "b7466601",
   "metadata": {},
   "outputs": [
    {
     "data": {
      "text/plain": [
       "(array([579], dtype=int64),)"
      ]
     },
     "execution_count": 18,
     "metadata": {},
     "output_type": "execute_result"
    }
   ],
   "source": [
    "np.where(df['SkinThickness']>90)"
   ]
  },
  {
   "cell_type": "code",
   "execution_count": 19,
   "id": "542c1eaf",
   "metadata": {},
   "outputs": [],
   "source": [
    "df.loc[df['SkinThickness']>90,\"SkinThickness\"]=65   "
   ]
  },
  {
   "cell_type": "code",
   "execution_count": 20,
   "id": "0077945c",
   "metadata": {},
   "outputs": [
    {
     "data": {
      "text/plain": [
       "<AxesSubplot:>"
      ]
     },
     "execution_count": 20,
     "metadata": {},
     "output_type": "execute_result"
    },
    {
     "data": {
      "image/png": "[encoded data removed]",
      "text/plain": [
       "<Figure size 432x288 with 1 Axes>"
      ]
     },
     "metadata": {
      "needs_background": "light"
     },
     "output_type": "display_data"
    }
   ],
   "source": [
    "df[['Insulin']].boxplot()"
   ]
  },
  {
   "cell_type": "code",
   "execution_count": 21,
   "id": "85951469",
   "metadata": {},
   "outputs": [],
   "source": [
    "# removing outlier above 400 value "
   ]
  },
  {
   "cell_type": "code",
   "execution_count": 22,
   "id": "ff6187e5",
   "metadata": {},
   "outputs": [
    {
     "data": {
      "text/plain": [
       "(array([  8,  13, 111, 153, 186, 220, 228, 247, 248, 286, 370, 392, 409,\n",
       "        415, 486, 584, 645, 655, 695, 753], dtype=int64),)"
      ]
     },
     "execution_count": 22,
     "metadata": {},
     "output_type": "execute_result"
    }
   ],
   "source": [
    "np.where(df['Insulin']>400)"
   ]
  },
  {
   "cell_type": "code",
   "execution_count": 23,
   "id": "c977eb68",
   "metadata": {},
   "outputs": [],
   "source": [
    "df.loc[df['Insulin']>400,\"Insulin\"]=350"
   ]
  },
  {
   "cell_type": "code",
   "execution_count": 24,
   "id": "7b6bdbe5",
   "metadata": {},
   "outputs": [
    {
     "data": {
      "text/plain": [
       "<AxesSubplot:>"
      ]
     },
     "execution_count": 24,
     "metadata": {},
     "output_type": "execute_result"
    },
    {
     "data": {
      "image/png": "[encoded data removed]",
      "text/plain": [
       "<Figure size 432x288 with 1 Axes>"
      ]
     },
     "metadata": {
      "needs_background": "light"
     },
     "output_type": "display_data"
    }
   ],
   "source": [
    "df[['BMI']].boxplot()"
   ]
  },
  {
   "cell_type": "code",
   "execution_count": 25,
   "id": "52b3f8e8",
   "metadata": {},
   "outputs": [
    {
     "data": {
      "text/plain": [
       "(array([  9,  49,  60,  81, 145, 371, 426, 494, 522, 684, 706], dtype=int64),)"
      ]
     },
     "execution_count": 25,
     "metadata": {},
     "output_type": "execute_result"
    }
   ],
   "source": [
    "np.where(df['BMI']<5)"
   ]
  },
  {
   "cell_type": "code",
   "execution_count": 26,
   "id": "4f86258c",
   "metadata": {},
   "outputs": [
    {
     "data": {
      "text/plain": [
       "(array([120, 125, 177, 193, 247, 303, 445, 673], dtype=int64),)"
      ]
     },
     "execution_count": 26,
     "metadata": {},
     "output_type": "execute_result"
    }
   ],
   "source": [
    "np.where(df['BMI']>50)"
   ]
  },
  {
   "cell_type": "code",
   "execution_count": 27,
   "id": "bc94c48c",
   "metadata": {},
   "outputs": [],
   "source": [
    "df.loc[df['BMI']>50,\"BMI\"]=50"
   ]
  },
  {
   "cell_type": "code",
   "execution_count": 28,
   "id": "f6cdb642",
   "metadata": {},
   "outputs": [],
   "source": [
    "df.loc[df['BMI']<5,\"BMI\"]=18.5"
   ]
  },
  {
   "cell_type": "code",
   "execution_count": 29,
   "id": "4b06148a",
   "metadata": {},
   "outputs": [
    {
     "data": {
      "text/plain": [
       "<AxesSubplot:>"
      ]
     },
     "execution_count": 29,
     "metadata": {},
     "output_type": "execute_result"
    },
    {
     "data": {
      "image/png": "[encoded data removed]",
      "text/plain": [
       "<Figure size 432x288 with 1 Axes>"
      ]
     },
     "metadata": {
      "needs_background": "light"
     },
     "output_type": "display_data"
    }
   ],
   "source": [
    "df[['DiabetesPedigreeFunction']].boxplot()"
   ]
  },
  {
   "cell_type": "code",
   "execution_count": 30,
   "id": "cafcdcd2",
   "metadata": {},
   "outputs": [],
   "source": [
    "df.loc[df['DiabetesPedigreeFunction']>1.5,\"DiabetesPedigreeFunction\"]=1.5"
   ]
  },
  {
   "cell_type": "code",
   "execution_count": 31,
   "id": "94152c7b",
   "metadata": {},
   "outputs": [
    {
     "data": {
      "text/plain": [
       "<AxesSubplot:>"
      ]
     },
     "execution_count": 31,
     "metadata": {},
     "output_type": "execute_result"
    },
    {
     "data": {
      "image/png": "[encoded data removed]",
      "text/plain": [
       "<Figure size 432x288 with 1 Axes>"
      ]
     },
     "metadata": {
      "needs_background": "light"
     },
     "output_type": "display_data"
    }
   ],
   "source": [
    "df[['Age']].boxplot()"
   ]
  },
  {
   "cell_type": "code",
   "execution_count": 32,
   "id": "ba1cb12c",
   "metadata": {},
   "outputs": [],
   "source": [
    "# we complete with outlier tratment so implimating logistic model"
   ]
  },
  {
   "cell_type": "markdown",
   "id": "0125cd03",
   "metadata": {},
   "source": [
    "## Seperating x and y var"
   ]
  },
  {
   "cell_type": "code",
   "execution_count": 33,
   "id": "2f6e0034",
   "metadata": {},
   "outputs": [],
   "source": [
    "x=df.drop(\"Outcome\",axis=1)\n",
    "y=df['Outcome']"
   ]
  },
  {
   "cell_type": "markdown",
   "id": "307098ee",
   "metadata": {},
   "source": [
    "## Train test Split"
   ]
  },
  {
   "cell_type": "code",
   "execution_count": 34,
   "id": "098b7d97",
   "metadata": {},
   "outputs": [],
   "source": [
    "x_train,x_test,y_train,y_test=train_test_split(x,y,random_state=42,test_size=0.2,stratify=y)"
   ]
  },
  {
   "cell_type": "markdown",
   "id": "b5560231",
   "metadata": {},
   "source": [
    "## model fiting"
   ]
  },
  {
   "cell_type": "code",
   "execution_count": 35,
   "id": "2fb8ae23",
   "metadata": {},
   "outputs": [
    {
     "name": "stderr",
     "output_type": "stream",
     "text": [
      "C:\\ANACONDA 64\\lib\\site-packages\\sklearn\\linear_model\\_logistic.py:814: ConvergenceWarning: lbfgs failed to converge (status=1):\n",
      "STOP: TOTAL NO. of ITERATIONS REACHED LIMIT.\n",
      "\n",
      "Increase the number of iterations (max_iter) or scale the data as shown in:\n",
      "    https://scikit-learn.org/stable/modules/preprocessing.html\n",
      "Please also refer to the documentation for alternative solver options:\n",
      "    https://scikit-learn.org/stable/modules/linear_model.html#logistic-regression\n",
      "  n_iter_i = _check_optimize_result(\n"
     ]
    },
    {
     "data": {
      "text/plain": [
       "LogisticRegression()"
      ]
     },
     "execution_count": 35,
     "metadata": {},
     "output_type": "execute_result"
    }
   ],
   "source": [
    "model=LogisticRegression()\n",
    "model.fit(x_train,y_train)"
   ]
  },
  {
   "cell_type": "code",
   "execution_count": 36,
   "id": "fa381e1e",
   "metadata": {},
   "outputs": [
    {
     "data": {
      "text/plain": [
       "array([[ 0.03687039, -0.00576421,  0.0008026 , -0.00102077,  0.10303834,\n",
       "         0.74731624,  0.02927448]])"
      ]
     },
     "execution_count": 36,
     "metadata": {},
     "output_type": "execute_result"
    }
   ],
   "source": [
    "model.coef_    "
   ]
  },
  {
   "cell_type": "code",
   "execution_count": 37,
   "id": "2625de45",
   "metadata": {},
   "outputs": [
    {
     "data": {
      "text/plain": [
       "array([-9.50975379])"
      ]
     },
     "execution_count": 37,
     "metadata": {},
     "output_type": "execute_result"
    }
   ],
   "source": [
    "model.intercept_"
   ]
  },
  {
   "cell_type": "markdown",
   "id": "9dde5e89",
   "metadata": {},
   "source": [
    "## Evalution on test data"
   ]
  },
  {
   "cell_type": "code",
   "execution_count": 38,
   "id": "d67bda1b",
   "metadata": {},
   "outputs": [
    {
     "name": "stdout",
     "output_type": "stream",
     "text": [
      "confusion matrix\n",
      " [[83 17]\n",
      " [27 27]]\n",
      "*****************************************************************************************\n",
      "accuracy score 0.7142857142857143\n",
      "*****************************************************************************************\n",
      "claification report               precision    recall  f1-score   support\n",
      "\n",
      "           0       0.75      0.83      0.79       100\n",
      "           1       0.61      0.50      0.55        54\n",
      "\n",
      "    accuracy                           0.71       154\n",
      "   macro avg       0.68      0.67      0.67       154\n",
      "weighted avg       0.71      0.71      0.71       154\n",
      "\n",
      "*****************************************************************************************\n",
      "precision score 0.6136363636363636\n",
      "*****************************************************************************************\n",
      "recall  score 0.5\n",
      "*****************************************************************************************\n"
     ]
    }
   ],
   "source": [
    "y_pred=model.predict(x_test)\n",
    "\n",
    "cn_mat=confusion_matrix(y_test,y_pred)\n",
    "print(\"confusion matrix\\n\",cn_mat)\n",
    "print(\"*\"*89)\n",
    "accuracy=accuracy_score(y_test,y_pred)\n",
    "print(\"accuracy score\",accuracy)\n",
    "print(\"*\"*89)\n",
    "cls_rep=classification_report(y_test,y_pred)\n",
    "print(\"claification report\",cls_rep)\n",
    "print(\"*\"*89)\n",
    "pre_sc=precision_score(y_test,y_pred)\n",
    "print(\"precision score\",pre_sc)\n",
    "print(\"*\"*89)\n",
    "re_sc=recall_score(y_test,y_pred)\n",
    "print(\"recall  score\",re_sc)\n",
    "print(\"*\"*89)"
   ]
  },
  {
   "cell_type": "markdown",
   "id": "5f23108f",
   "metadata": {},
   "source": [
    "## training data evalution"
   ]
  },
  {
   "cell_type": "code",
   "execution_count": 39,
   "id": "1c9ea67f",
   "metadata": {},
   "outputs": [
    {
     "name": "stdout",
     "output_type": "stream",
     "text": [
      "confusion matrix\n",
      " [[354  46]\n",
      " [ 86 128]]\n",
      "*****************************************************************************************\n",
      "accuracy score 0.7850162866449512\n",
      "*****************************************************************************************\n",
      "claification report               precision    recall  f1-score   support\n",
      "\n",
      "           0       0.80      0.89      0.84       400\n",
      "           1       0.74      0.60      0.66       214\n",
      "\n",
      "    accuracy                           0.79       614\n",
      "   macro avg       0.77      0.74      0.75       614\n",
      "weighted avg       0.78      0.79      0.78       614\n",
      "\n",
      "*****************************************************************************************\n",
      "precision score 0.735632183908046\n",
      "*****************************************************************************************\n",
      "recall  score 0.5981308411214953\n",
      "*****************************************************************************************\n"
     ]
    }
   ],
   "source": [
    "y_predict=model.predict(x_train)\n",
    "cn_mat=confusion_matrix(y_train,y_predict)\n",
    "print(\"confusion matrix\\n\",cn_mat)\n",
    "print(\"*\"*89)\n",
    "accuracy=accuracy_score(y_train,y_predict)\n",
    "print(\"accuracy score\",accuracy)\n",
    "print(\"*\"*89)\n",
    "cls_rep=classification_report(y_train,y_predict)\n",
    "print(\"claification report\",cls_rep)\n",
    "print(\"*\"*89)\n",
    "pre_sc=precision_score(y_train,y_predict)\n",
    "print(\"precision score\",pre_sc)\n",
    "print(\"*\"*89)\n",
    "re_sc=recall_score(y_train,y_predict)\n",
    "print(\"recall  score\",re_sc)\n",
    "print(\"*\"*89)"
   ]
  },
  {
   "cell_type": "markdown",
   "id": "c2d701ed",
   "metadata": {},
   "source": [
    "## multicolinearity"
   ]
  },
  {
   "cell_type": "code",
   "execution_count": 40,
   "id": "3e26b303",
   "metadata": {},
   "outputs": [],
   "source": [
    "from statsmodels.stats.outliers_influence import variance_inflation_factor"
   ]
  },
  {
   "cell_type": "code",
   "execution_count": 41,
   "id": "b46c8a96",
   "metadata": {},
   "outputs": [
    {
     "data": {
      "text/plain": [
       "<AxesSubplot:>"
      ]
     },
     "execution_count": 41,
     "metadata": {},
     "output_type": "execute_result"
    },
    {
     "data": {
      "image/png": "[encoded data removed]",
      "text/plain": [
       "<Figure size 432x288 with 1 Axes>"
      ]
     },
     "metadata": {
      "needs_background": "light"
     },
     "output_type": "display_data"
    }
   ],
   "source": [
    "vif=[]\n",
    "for i in range(df.shape[1]):\n",
    "    v=variance_inflation_factor(df.to_numpy(),i)\n",
    "    vif.append(v)\n",
    "    \n",
    "series=pd.Series(vif,index=df.columns)\n",
    "series.sort_values().plot(kind=\"barh\")"
   ]
  },
  {
   "cell_type": "code",
   "execution_count": 42,
   "id": "ba81d62a",
   "metadata": {},
   "outputs": [
    {
     "data": {
      "text/plain": [
       "<AxesSubplot:>"
      ]
     },
     "execution_count": 42,
     "metadata": {},
     "output_type": "execute_result"
    },
    {
     "data": {
      "image/png": "[encoded data removed]",
      "text/plain": [
       "<Figure size 432x288 with 2 Axes>"
      ]
     },
     "metadata": {
      "needs_background": "light"
     },
     "output_type": "display_data"
    }
   ],
   "source": [
    "sns.heatmap(df.corr(),annot=True)"
   ]
  },
  {
   "cell_type": "code",
   "execution_count": 43,
   "id": "f4f0b7f7",
   "metadata": {},
   "outputs": [
    {
     "data": {
      "text/plain": [
       "<seaborn.axisgrid.FacetGrid at 0x236531971c0>"
      ]
     },
     "execution_count": 43,
     "metadata": {},
     "output_type": "execute_result"
    },
    {
     "data": {
      "image/png": "[encoded data removed]",
      "text/plain": [
       "<Figure size 360x360 with 1 Axes>"
      ]
     },
     "metadata": {
      "needs_background": "light"
     },
     "output_type": "display_data"
    }
   ],
   "source": [
    "sns.displot(y_pred-y_test,kind=\"kde\")"
   ]
  },
  {
   "cell_type": "code",
   "execution_count": 44,
   "id": "adb1a846",
   "metadata": {},
   "outputs": [
    {
     "data": {
      "text/plain": [
       "<AxesSubplot:xlabel='Outcome', ylabel='count'>"
      ]
     },
     "execution_count": 44,
     "metadata": {},
     "output_type": "execute_result"
    },
    {
     "data": {
      "image/png": "[encoded data removed]",
      "text/plain": [
       "<Figure size 432x288 with 1 Axes>"
      ]
     },
     "metadata": {
      "needs_background": "light"
     },
     "output_type": "display_data"
    }
   ],
   "source": [
    "sns.countplot(x=df['Outcome'])"
   ]
  },
  {
   "cell_type": "markdown",
   "id": "0b7c5581",
   "metadata": {},
   "source": [
    "## Standarization"
   ]
  },
  {
   "cell_type": "code",
   "execution_count": 45,
   "id": "141324f2",
   "metadata": {},
   "outputs": [],
   "source": [
    "from sklearn.preprocessing import StandardScaler"
   ]
  },
  {
   "cell_type": "code",
   "execution_count": 46,
   "id": "582f417c",
   "metadata": {},
   "outputs": [],
   "source": [
    "scalar=StandardScaler()"
   ]
  },
  {
   "cell_type": "code",
   "execution_count": 47,
   "id": "4b1e4fb0",
   "metadata": {},
   "outputs": [],
   "source": [
    "s=scalar.fit_transform(x)"
   ]
  },
  {
   "cell_type": "code",
   "execution_count": 48,
   "id": "219d6aab",
   "metadata": {},
   "outputs": [],
   "source": [
    "df1=pd.DataFrame(s,columns=x.columns)"
   ]
  },
  {
   "cell_type": "code",
   "execution_count": 49,
   "id": "35d23e04",
   "metadata": {},
   "outputs": [
    {
     "data": {
      "text/html": [
       "<div>\n",
       "<style scoped>\n",
       "    .dataframe tbody tr th:only-of-type {\n",
       "        vertical-align: middle;\n",
       "    }\n",
       "\n",
       "    .dataframe tbody tr th {\n",
       "        vertical-align: top;\n",
       "    }\n",
       "\n",
       "    .dataframe thead th {\n",
       "        text-align: right;\n",
       "    }\n",
       "</style>\n",
       "<table border=\"1\" class=\"dataframe\">\n",
       "  <thead>\n",
       "    <tr style=\"text-align: right;\">\n",
       "      <th></th>\n",
       "      <th>Glucose</th>\n",
       "      <th>BloodPressure</th>\n",
       "      <th>SkinThickness</th>\n",
       "      <th>Insulin</th>\n",
       "      <th>BMI</th>\n",
       "      <th>DiabetesPedigreeFunction</th>\n",
       "      <th>Age</th>\n",
       "    </tr>\n",
       "  </thead>\n",
       "  <tbody>\n",
       "    <tr>\n",
       "      <th>0</th>\n",
       "      <td>0.862739</td>\n",
       "      <td>-1.823262</td>\n",
       "      <td>0.919954</td>\n",
       "      <td>-0.771500</td>\n",
       "      <td>0.205153</td>\n",
       "      <td>0.526723</td>\n",
       "      <td>1.426022</td>\n",
       "    </tr>\n",
       "    <tr>\n",
       "      <th>1</th>\n",
       "      <td>-1.183876</td>\n",
       "      <td>-0.495131</td>\n",
       "      <td>0.539488</td>\n",
       "      <td>-0.771500</td>\n",
       "      <td>-0.815582</td>\n",
       "      <td>-0.375771</td>\n",
       "      <td>-0.190927</td>\n",
       "    </tr>\n",
       "    <tr>\n",
       "      <th>2</th>\n",
       "      <td>1.999747</td>\n",
       "      <td>-0.661147</td>\n",
       "      <td>-1.299428</td>\n",
       "      <td>-0.771500</td>\n",
       "      <td>-1.296786</td>\n",
       "      <td>0.673868</td>\n",
       "      <td>1.596227</td>\n",
       "    </tr>\n",
       "    <tr>\n",
       "      <th>3</th>\n",
       "      <td>0.927711</td>\n",
       "      <td>-0.495131</td>\n",
       "      <td>0.159023</td>\n",
       "      <td>0.195615</td>\n",
       "      <td>-0.596853</td>\n",
       "      <td>-0.977433</td>\n",
       "      <td>-1.041953</td>\n",
       "    </tr>\n",
       "    <tr>\n",
       "      <th>4</th>\n",
       "      <td>0.927711</td>\n",
       "      <td>-2.653344</td>\n",
       "      <td>0.919954</td>\n",
       "      <td>0.956960</td>\n",
       "      <td>1.590438</td>\n",
       "      <td>3.381348</td>\n",
       "      <td>-0.020722</td>\n",
       "    </tr>\n",
       "    <tr>\n",
       "      <th>...</th>\n",
       "      <td>...</td>\n",
       "      <td>...</td>\n",
       "      <td>...</td>\n",
       "      <td>...</td>\n",
       "      <td>...</td>\n",
       "      <td>...</td>\n",
       "      <td>...</td>\n",
       "    </tr>\n",
       "    <tr>\n",
       "      <th>763</th>\n",
       "      <td>-0.664101</td>\n",
       "      <td>0.334951</td>\n",
       "      <td>1.744295</td>\n",
       "      <td>1.080421</td>\n",
       "      <td>0.103080</td>\n",
       "      <td>-0.964353</td>\n",
       "      <td>2.532356</td>\n",
       "    </tr>\n",
       "    <tr>\n",
       "      <th>764</th>\n",
       "      <td>0.018104</td>\n",
       "      <td>-0.163098</td>\n",
       "      <td>0.412666</td>\n",
       "      <td>-0.771500</td>\n",
       "      <td>0.671776</td>\n",
       "      <td>-0.411740</td>\n",
       "      <td>-0.531337</td>\n",
       "    </tr>\n",
       "    <tr>\n",
       "      <th>765</th>\n",
       "      <td>-0.014382</td>\n",
       "      <td>0.002918</td>\n",
       "      <td>0.159023</td>\n",
       "      <td>0.380807</td>\n",
       "      <td>-0.873910</td>\n",
       "      <td>-0.722380</td>\n",
       "      <td>-0.276029</td>\n",
       "    </tr>\n",
       "    <tr>\n",
       "      <th>766</th>\n",
       "      <td>0.148048</td>\n",
       "      <td>-0.993180</td>\n",
       "      <td>-1.299428</td>\n",
       "      <td>-0.771500</td>\n",
       "      <td>-0.305214</td>\n",
       "      <td>-0.382310</td>\n",
       "      <td>1.170715</td>\n",
       "    </tr>\n",
       "    <tr>\n",
       "      <th>767</th>\n",
       "      <td>-0.923989</td>\n",
       "      <td>-0.163098</td>\n",
       "      <td>0.666310</td>\n",
       "      <td>-0.771500</td>\n",
       "      <td>-0.261469</td>\n",
       "      <td>-0.493487</td>\n",
       "      <td>-0.871747</td>\n",
       "    </tr>\n",
       "  </tbody>\n",
       "</table>\n",
       "<p>768 rows × 7 columns</p>\n",
       "</div>"
      ],
      "text/plain": [
       "      Glucose  BloodPressure  SkinThickness   Insulin       BMI  \\\n",
       "0    0.862739      -1.823262       0.919954 -0.771500  0.205153   \n",
       "1   -1.183876      -0.495131       0.539488 -0.771500 -0.815582   \n",
       "2    1.999747      -0.661147      -1.299428 -0.771500 -1.296786   \n",
       "3    0.927711      -0.495131       0.159023  0.195615 -0.596853   \n",
       "4    0.927711      -2.653344       0.919954  0.956960  1.590438   \n",
       "..        ...            ...            ...       ...       ...   \n",
       "763 -0.664101       0.334951       1.744295  1.080421  0.103080   \n",
       "764  0.018104      -0.163098       0.412666 -0.771500  0.671776   \n",
       "765 -0.014382       0.002918       0.159023  0.380807 -0.873910   \n",
       "766  0.148048      -0.993180      -1.299428 -0.771500 -0.305214   \n",
       "767 -0.923989      -0.163098       0.666310 -0.771500 -0.261469   \n",
       "\n",
       "     DiabetesPedigreeFunction       Age  \n",
       "0                    0.526723  1.426022  \n",
       "1                   -0.375771 -0.190927  \n",
       "2                    0.673868  1.596227  \n",
       "3                   -0.977433 -1.041953  \n",
       "4                    3.381348 -0.020722  \n",
       "..                        ...       ...  \n",
       "763                 -0.964353  2.532356  \n",
       "764                 -0.411740 -0.531337  \n",
       "765                 -0.722380 -0.276029  \n",
       "766                 -0.382310  1.170715  \n",
       "767                 -0.493487 -0.871747  \n",
       "\n",
       "[768 rows x 7 columns]"
      ]
     },
     "execution_count": 49,
     "metadata": {},
     "output_type": "execute_result"
    }
   ],
   "source": [
    "df1"
   ]
  },
  {
   "cell_type": "code",
   "execution_count": 50,
   "id": "008ed4fc",
   "metadata": {},
   "outputs": [],
   "source": [
    "## train test split\n",
    "x=df1.copy()\n",
    "y=y"
   ]
  },
  {
   "cell_type": "code",
   "execution_count": 51,
   "id": "2ae4e5e5",
   "metadata": {},
   "outputs": [],
   "source": [
    "x_train,x_test,y_train,y_test=train_test_split(x,y,random_state=12,test_size=0.2,stratify=y)"
   ]
  },
  {
   "cell_type": "code",
   "execution_count": 52,
   "id": "3c146431",
   "metadata": {},
   "outputs": [
    {
     "data": {
      "text/plain": [
       "LogisticRegression()"
      ]
     },
     "execution_count": 52,
     "metadata": {},
     "output_type": "execute_result"
    }
   ],
   "source": [
    "std_model=LogisticRegression()\n",
    "std_model.fit(x_train,y_train)"
   ]
  },
  {
   "cell_type": "code",
   "execution_count": 53,
   "id": "fd4b870c",
   "metadata": {},
   "outputs": [],
   "source": [
    "## testing evalution"
   ]
  },
  {
   "cell_type": "code",
   "execution_count": 54,
   "id": "177cae9c",
   "metadata": {},
   "outputs": [
    {
     "name": "stdout",
     "output_type": "stream",
     "text": [
      "confusion matrix\n",
      " [[87 13]\n",
      " [20 34]]\n",
      "*****************************************************************************************\n",
      "accuracy score 0.7857142857142857\n",
      "*****************************************************************************************\n",
      "claification report               precision    recall  f1-score   support\n",
      "\n",
      "           0       0.81      0.87      0.84       100\n",
      "           1       0.72      0.63      0.67        54\n",
      "\n",
      "    accuracy                           0.79       154\n",
      "   macro avg       0.77      0.75      0.76       154\n",
      "weighted avg       0.78      0.79      0.78       154\n",
      "\n",
      "*****************************************************************************************\n",
      "precision score 0.723404255319149\n",
      "*****************************************************************************************\n",
      "recall  score 0.6296296296296297\n",
      "*****************************************************************************************\n"
     ]
    }
   ],
   "source": [
    "pred=std_model.predict(x_test)\n",
    "cn_mat=confusion_matrix(y_test,pred)\n",
    "print(\"confusion matrix\\n\",cn_mat)\n",
    "print(\"*\"*89)\n",
    "accuracy=accuracy_score(y_test,pred)\n",
    "print(\"accuracy score\",accuracy)\n",
    "print(\"*\"*89)\n",
    "cls_rep=classification_report(y_test,pred)\n",
    "print(\"claification report\",cls_rep)\n",
    "print(\"*\"*89)\n",
    "pre_sc=precision_score(y_test,pred)\n",
    "print(\"precision score\",pre_sc)\n",
    "print(\"*\"*89)\n",
    "re_sc=recall_score(y_test,pred)\n",
    "print(\"recall  score\",re_sc)\n",
    "print(\"*\"*89)"
   ]
  },
  {
   "cell_type": "code",
   "execution_count": 55,
   "id": "98333655",
   "metadata": {},
   "outputs": [
    {
     "name": "stdout",
     "output_type": "stream",
     "text": [
      "confusion matrix\n",
      " [[351  49]\n",
      " [ 94 120]]\n",
      "*****************************************************************************************\n",
      "accuracy score 0.7671009771986971\n",
      "*****************************************************************************************\n",
      "claification report               precision    recall  f1-score   support\n",
      "\n",
      "           0       0.79      0.88      0.83       400\n",
      "           1       0.71      0.56      0.63       214\n",
      "\n",
      "    accuracy                           0.77       614\n",
      "   macro avg       0.75      0.72      0.73       614\n",
      "weighted avg       0.76      0.77      0.76       614\n",
      "\n",
      "*****************************************************************************************\n",
      "precision score 0.7100591715976331\n",
      "*****************************************************************************************\n",
      "recall  score 0.5607476635514018\n",
      "*****************************************************************************************\n"
     ]
    }
   ],
   "source": [
    "# trainind data evalution\n",
    "predict=std_model.predict(x_train)\n",
    "cn_mat=confusion_matrix(y_train,predict)\n",
    "print(\"confusion matrix\\n\",cn_mat)\n",
    "print(\"*\"*89)\n",
    "accuracy=accuracy_score(y_train,predict)\n",
    "print(\"accuracy score\",accuracy)\n",
    "print(\"*\"*89)\n",
    "cls_rep=classification_report(y_train,predict)\n",
    "print(\"claification report\",cls_rep)\n",
    "print(\"*\"*89)\n",
    "pre_sc=precision_score(y_train,predict)\n",
    "print(\"precision score\",pre_sc)\n",
    "print(\"*\"*89)\n",
    "re_sc=recall_score(y_train,predict)\n",
    "print(\"recall  score\",re_sc)\n",
    "print(\"*\"*89)"
   ]
  },
  {
   "cell_type": "code",
   "execution_count": 56,
   "id": "917d7551",
   "metadata": {},
   "outputs": [],
   "source": [
    "## quit good with standard scalar model increased testing data accuracy and minimize fn and fp"
   ]
  },
  {
   "cell_type": "code",
   "execution_count": 57,
   "id": "a124c71d",
   "metadata": {},
   "outputs": [],
   "source": [
    "with open(\"model.pkl\",\"wb\") as f:\n",
    "    pickle.dump(model,f)"
   ]
  },
  {
   "cell_type": "code",
   "execution_count": 58,
   "id": "dc00e07c",
   "metadata": {},
   "outputs": [
    {
     "data": {
      "text/plain": [
       "{'columns': ['Glucose',\n",
       "  'BloodPressure',\n",
       "  'SkinThickness',\n",
       "  'Insulin',\n",
       "  'BMI',\n",
       "  'DiabetesPedigreeFunction',\n",
       "  'Age']}"
      ]
     },
     "execution_count": 58,
     "metadata": {},
     "output_type": "execute_result"
    }
   ],
   "source": [
    "json_data={\"columns\":list(x.columns)}\n",
    "json_data"
   ]
  },
  {
   "cell_type": "code",
   "execution_count": 59,
   "id": "e39a4fe3",
   "metadata": {},
   "outputs": [],
   "source": [
    "with open (\"json_data.json\",\"w\") as m:\n",
    "    json.dump(json_data,m)"
   ]
  }
 ],
 "metadata": {
  "kernelspec": {
   "display_name": "Python 3 (ipykernel)",
   "language": "python",
   "name": "python3"
  },
  "language_info": {
   "codemirror_mode": {
    "name": "ipython",
    "version": 3
   },
   "file_extension": ".py",
   "mimetype": "text/x-python",
   "name": "python",
   "nbconvert_exporter": "python",
   "pygments_lexer": "ipython3",
   "version": "3.9.12"
  },
  "vscode": {
   "interpreter": {
    "hash": "d741473c151447be2f465f27c1636144d3b75b5b131ab7468db0f349770134ec"
   }
  }
 },
 "nbformat": 4,
 "nbformat_minor": 5
}
